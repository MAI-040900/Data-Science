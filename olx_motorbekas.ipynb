{
  "nbformat": 4,
  "nbformat_minor": 0,
  "metadata": {
    "colab": {
      "provenance": []
    },
    "kernelspec": {
      "name": "python3",
      "display_name": "Python 3"
    },
    "language_info": {
      "name": "python"
    }
  },
  "cells": [
    {
      "cell_type": "code",
      "execution_count": 6,
      "metadata": {
        "id": "bU-Xc4v6nEcY",
        "colab": {
          "base_uri": "https://localhost:8080/"
        },
        "outputId": "81e9a93f-524f-45e2-e537-c88b5f56a60c"
      },
      "outputs": [
        {
          "output_type": "stream",
          "name": "stdout",
          "text": [
            "Requirement already satisfied: pyspark in /usr/local/lib/python3.10/dist-packages (3.5.0)\n",
            "Requirement already satisfied: py4j==0.10.9.7 in /usr/local/lib/python3.10/dist-packages (from pyspark) (0.10.9.7)\n"
          ]
        }
      ],
      "source": [
        "pip install pyspark"
      ]
    },
    {
      "cell_type": "code",
      "source": [
        "pip install findspark"
      ],
      "metadata": {
        "colab": {
          "base_uri": "https://localhost:8080/"
        },
        "id": "VT7N3Oz1prC7",
        "outputId": "5c4f04e1-5883-4b18-b501-9acbc20d8396"
      },
      "execution_count": 7,
      "outputs": [
        {
          "output_type": "stream",
          "name": "stdout",
          "text": [
            "Requirement already satisfied: findspark in /usr/local/lib/python3.10/dist-packages (2.0.1)\n"
          ]
        }
      ]
    },
    {
      "cell_type": "code",
      "source": [
        "import os\n",
        "import warnings\n",
        "warnings.filterwarnings('ignore')\n",
        "from pyspark.sql import SparkSession\n",
        "from pyspark.sql.types import StructField, StructType, StringType, IntegerType, FloatType\n",
        "from pyspark.sql.functions import split, count, when, isnan, col, regexp_replace\n",
        "from pyspark.ml.regression import LinearRegression\n",
        "from pyspark.ml.feature import OneHotEncoder, StringIndexer\n",
        "from pyspark.ml.linalg import Vectors\n",
        "from pyspark.ml.feature import VectorAssembler"
      ],
      "metadata": {
        "id": "_ME51f1xqKDX"
      },
      "execution_count": 9,
      "outputs": []
    },
    {
      "cell_type": "code",
      "source": [
        "spark = SparkSession.builder.appName('First Session').getOrCreate()\n",
        "print('Spark Version: {}'.format(spark.version))"
      ],
      "metadata": {
        "id": "_EPfIaPdqT9f",
        "colab": {
          "base_uri": "https://localhost:8080/"
        },
        "outputId": "54a9b8bf-cf7d-427a-fc87-5ebd563cb681"
      },
      "execution_count": 10,
      "outputs": [
        {
          "output_type": "stream",
          "name": "stdout",
          "text": [
            "Spark Version: 3.5.0\n"
          ]
        }
      ]
    },
    {
      "cell_type": "code",
      "source": [
        "schema = StructType([StructField('Motor', StringType(), nullable = True),\n",
        "                     StructField('Tahun', IntegerType(), nullable = True),\n",
        "                     StructField('Harga', IntegerType(), nullable = True),\n",
        "                     StructField('Alamat', StringType(), nullable = True)])\n",
        "\n",
        "file_path = 'olx-motorbekas.csv'\n",
        "df = spark.read.csv(file_path,\n",
        "                    header = True,\n",
        "                    inferSchema = True,\n",
        "                    nanValue = '?')\n",
        "df.show(5)"
      ],
      "metadata": {
        "colab": {
          "base_uri": "https://localhost:8080/"
        },
        "id": "hGuLEZ6L3gSq",
        "outputId": "b2a6d8c0-0a13-4ac2-ebd5-08ad577e9bae"
      },
      "execution_count": 28,
      "outputs": [
        {
          "output_type": "stream",
          "name": "stdout",
          "text": [
            "+--------------------+-----+-------------+--------------------+\n",
            "|               Motor|Tahun|        Harga|              Alamat|\n",
            "+--------------------+-----+-------------+--------------------+\n",
            "|MIO SOUL GT 125 G...| 2018| Rp 8.700.000|Bekasi Utara, Bek...|\n",
            "|Honda Beat ECO 20...| 2019| Rp 8.900.000|Bekasi Utara, Bek...|\n",
            "|Sepeda Motor List...| 2023|Rp 10.000.000|Medan Satria, Bek...|\n",
            "|Dijual Yamaha Fin...| 2019| Rp 7.600.000|Bekasi Utara, Bek...|\n",
            "|Murah !!! Dijual ...| 2023| Rp 8.500.000|Medan Satria, Bek...|\n",
            "+--------------------+-----+-------------+--------------------+\n",
            "only showing top 5 rows\n",
            "\n"
          ]
        }
      ]
    },
    {
      "cell_type": "code",
      "source": [
        "def check_missing(dataframe):\n",
        "\n",
        "    return dataframe.select([count(when(isnan(c) | col(c).isNull(), c)). \\\n",
        "                             alias(c) for c in dataframe.columns]).show()\n",
        "\n",
        "check_missing(df)"
      ],
      "metadata": {
        "colab": {
          "base_uri": "https://localhost:8080/"
        },
        "id": "g2ctIYFK4G0u",
        "outputId": "7e145126-2f41-4d01-ad9f-531c33cb3b5f"
      },
      "execution_count": 29,
      "outputs": [
        {
          "output_type": "stream",
          "name": "stdout",
          "text": [
            "+-----+-----+-----+------+\n",
            "|Motor|Tahun|Harga|Alamat|\n",
            "+-----+-----+-----+------+\n",
            "|    0|    0|    0|     0|\n",
            "+-----+-----+-----+------+\n",
            "\n"
          ]
        }
      ]
    },
    {
      "cell_type": "code",
      "source": [
        "df = df.na.drop()\n",
        "\n",
        "df = df.withColumn(\"Harga\", df[\"Harga\"].cast(StringType()))\n",
        "\n",
        "df.show(5)"
      ],
      "metadata": {
        "colab": {
          "base_uri": "https://localhost:8080/"
        },
        "id": "34398WhK6nli",
        "outputId": "119771b0-1058-44fc-824a-fa571f0a52bd"
      },
      "execution_count": 30,
      "outputs": [
        {
          "output_type": "stream",
          "name": "stdout",
          "text": [
            "+--------------------+-----+-------------+--------------------+\n",
            "|               Motor|Tahun|        Harga|              Alamat|\n",
            "+--------------------+-----+-------------+--------------------+\n",
            "|MIO SOUL GT 125 G...| 2018| Rp 8.700.000|Bekasi Utara, Bek...|\n",
            "|Honda Beat ECO 20...| 2019| Rp 8.900.000|Bekasi Utara, Bek...|\n",
            "|Sepeda Motor List...| 2023|Rp 10.000.000|Medan Satria, Bek...|\n",
            "|Dijual Yamaha Fin...| 2019| Rp 7.600.000|Bekasi Utara, Bek...|\n",
            "|Murah !!! Dijual ...| 2023| Rp 8.500.000|Medan Satria, Bek...|\n",
            "+--------------------+-----+-------------+--------------------+\n",
            "only showing top 5 rows\n",
            "\n"
          ]
        }
      ]
    },
    {
      "cell_type": "code",
      "source": [
        "df.columns"
      ],
      "metadata": {
        "colab": {
          "base_uri": "https://localhost:8080/"
        },
        "id": "ZXIq1Ivq73Xn",
        "outputId": "b5bee209-0403-4ee6-8193-9a21218779c1"
      },
      "execution_count": 32,
      "outputs": [
        {
          "output_type": "execute_result",
          "data": {
            "text/plain": [
              "['Motor', 'Tahun', 'Harga', 'Alamat']"
            ]
          },
          "metadata": {},
          "execution_count": 32
        }
      ]
    },
    {
      "cell_type": "code",
      "source": [
        "['Motor',\n",
        " 'Tahun',\n",
        " 'Harga',\n",
        " 'Alamat']"
      ],
      "metadata": {
        "colab": {
          "base_uri": "https://localhost:8080/"
        },
        "id": "5f6i8lYu8RNQ",
        "outputId": "b8c019b0-c197-445e-a346-fc5427e0ab35"
      },
      "execution_count": 33,
      "outputs": [
        {
          "output_type": "execute_result",
          "data": {
            "text/plain": [
              "['Motor', 'Tahun', 'Harga', 'Alamat']"
            ]
          },
          "metadata": {},
          "execution_count": 33
        }
      ]
    },
    {
      "cell_type": "code",
      "source": [
        "df.toPandas().head()"
      ],
      "metadata": {
        "colab": {
          "base_uri": "https://localhost:8080/",
          "height": 206
        },
        "id": "moQL9IaX8d8N",
        "outputId": "b24756b1-8986-4e89-ddc9-ca91801e5e01"
      },
      "execution_count": 34,
      "outputs": [
        {
          "output_type": "execute_result",
          "data": {
            "text/plain": [
              "                                               Motor  Tahun          Harga  \\\n",
              "0                              MIO SOUL GT 125 GRESS   2018   Rp 8.700.000   \n",
              "1  Honda Beat ECO 2019 ss lengkap mesin bagus pla...   2019   Rp 8.900.000   \n",
              "2              Sepeda Motor Listrik Uwinfly T5 Super   2023  Rp 10.000.000   \n",
              "3                 Dijual Yamaha Fino grande 2019 dof   2019   Rp 7.600.000   \n",
              "4   Murah !!! Dijual Motor Listrik Mirip Vespa Matic   2023   Rp 8.500.000   \n",
              "\n",
              "                      Alamat  \n",
              "0  Bekasi Utara, Bekasi Kota  \n",
              "1  Bekasi Utara, Bekasi Kota  \n",
              "2  Medan Satria, Bekasi Kota  \n",
              "3  Bekasi Utara, Bekasi Kota  \n",
              "4  Medan Satria, Bekasi Kota  "
            ],
            "text/html": [
              "\n",
              "  <div id=\"df-cc0e610a-cde3-4252-828b-2220d053ae24\" class=\"colab-df-container\">\n",
              "    <div>\n",
              "<style scoped>\n",
              "    .dataframe tbody tr th:only-of-type {\n",
              "        vertical-align: middle;\n",
              "    }\n",
              "\n",
              "    .dataframe tbody tr th {\n",
              "        vertical-align: top;\n",
              "    }\n",
              "\n",
              "    .dataframe thead th {\n",
              "        text-align: right;\n",
              "    }\n",
              "</style>\n",
              "<table border=\"1\" class=\"dataframe\">\n",
              "  <thead>\n",
              "    <tr style=\"text-align: right;\">\n",
              "      <th></th>\n",
              "      <th>Motor</th>\n",
              "      <th>Tahun</th>\n",
              "      <th>Harga</th>\n",
              "      <th>Alamat</th>\n",
              "    </tr>\n",
              "  </thead>\n",
              "  <tbody>\n",
              "    <tr>\n",
              "      <th>0</th>\n",
              "      <td>MIO SOUL GT 125 GRESS</td>\n",
              "      <td>2018</td>\n",
              "      <td>Rp 8.700.000</td>\n",
              "      <td>Bekasi Utara, Bekasi Kota</td>\n",
              "    </tr>\n",
              "    <tr>\n",
              "      <th>1</th>\n",
              "      <td>Honda Beat ECO 2019 ss lengkap mesin bagus pla...</td>\n",
              "      <td>2019</td>\n",
              "      <td>Rp 8.900.000</td>\n",
              "      <td>Bekasi Utara, Bekasi Kota</td>\n",
              "    </tr>\n",
              "    <tr>\n",
              "      <th>2</th>\n",
              "      <td>Sepeda Motor Listrik Uwinfly T5 Super</td>\n",
              "      <td>2023</td>\n",
              "      <td>Rp 10.000.000</td>\n",
              "      <td>Medan Satria, Bekasi Kota</td>\n",
              "    </tr>\n",
              "    <tr>\n",
              "      <th>3</th>\n",
              "      <td>Dijual Yamaha Fino grande 2019 dof</td>\n",
              "      <td>2019</td>\n",
              "      <td>Rp 7.600.000</td>\n",
              "      <td>Bekasi Utara, Bekasi Kota</td>\n",
              "    </tr>\n",
              "    <tr>\n",
              "      <th>4</th>\n",
              "      <td>Murah !!! Dijual Motor Listrik Mirip Vespa Matic</td>\n",
              "      <td>2023</td>\n",
              "      <td>Rp 8.500.000</td>\n",
              "      <td>Medan Satria, Bekasi Kota</td>\n",
              "    </tr>\n",
              "  </tbody>\n",
              "</table>\n",
              "</div>\n",
              "    <div class=\"colab-df-buttons\">\n",
              "\n",
              "  <div class=\"colab-df-container\">\n",
              "    <button class=\"colab-df-convert\" onclick=\"convertToInteractive('df-cc0e610a-cde3-4252-828b-2220d053ae24')\"\n",
              "            title=\"Convert this dataframe to an interactive table.\"\n",
              "            style=\"display:none;\">\n",
              "\n",
              "  <svg xmlns=\"http://www.w3.org/2000/svg\" height=\"24px\" viewBox=\"0 -960 960 960\">\n",
              "    <path d=\"M120-120v-720h720v720H120Zm60-500h600v-160H180v160Zm220 220h160v-160H400v160Zm0 220h160v-160H400v160ZM180-400h160v-160H180v160Zm440 0h160v-160H620v160ZM180-180h160v-160H180v160Zm440 0h160v-160H620v160Z\"/>\n",
              "  </svg>\n",
              "    </button>\n",
              "\n",
              "  <style>\n",
              "    .colab-df-container {\n",
              "      display:flex;\n",
              "      gap: 12px;\n",
              "    }\n",
              "\n",
              "    .colab-df-convert {\n",
              "      background-color: #E8F0FE;\n",
              "      border: none;\n",
              "      border-radius: 50%;\n",
              "      cursor: pointer;\n",
              "      display: none;\n",
              "      fill: #1967D2;\n",
              "      height: 32px;\n",
              "      padding: 0 0 0 0;\n",
              "      width: 32px;\n",
              "    }\n",
              "\n",
              "    .colab-df-convert:hover {\n",
              "      background-color: #E2EBFA;\n",
              "      box-shadow: 0px 1px 2px rgba(60, 64, 67, 0.3), 0px 1px 3px 1px rgba(60, 64, 67, 0.15);\n",
              "      fill: #174EA6;\n",
              "    }\n",
              "\n",
              "    .colab-df-buttons div {\n",
              "      margin-bottom: 4px;\n",
              "    }\n",
              "\n",
              "    [theme=dark] .colab-df-convert {\n",
              "      background-color: #3B4455;\n",
              "      fill: #D2E3FC;\n",
              "    }\n",
              "\n",
              "    [theme=dark] .colab-df-convert:hover {\n",
              "      background-color: #434B5C;\n",
              "      box-shadow: 0px 1px 3px 1px rgba(0, 0, 0, 0.15);\n",
              "      filter: drop-shadow(0px 1px 2px rgba(0, 0, 0, 0.3));\n",
              "      fill: #FFFFFF;\n",
              "    }\n",
              "  </style>\n",
              "\n",
              "    <script>\n",
              "      const buttonEl =\n",
              "        document.querySelector('#df-cc0e610a-cde3-4252-828b-2220d053ae24 button.colab-df-convert');\n",
              "      buttonEl.style.display =\n",
              "        google.colab.kernel.accessAllowed ? 'block' : 'none';\n",
              "\n",
              "      async function convertToInteractive(key) {\n",
              "        const element = document.querySelector('#df-cc0e610a-cde3-4252-828b-2220d053ae24');\n",
              "        const dataTable =\n",
              "          await google.colab.kernel.invokeFunction('convertToInteractive',\n",
              "                                                    [key], {});\n",
              "        if (!dataTable) return;\n",
              "\n",
              "        const docLinkHtml = 'Like what you see? Visit the ' +\n",
              "          '<a target=\"_blank\" href=https://colab.research.google.com/notebooks/data_table.ipynb>data table notebook</a>'\n",
              "          + ' to learn more about interactive tables.';\n",
              "        element.innerHTML = '';\n",
              "        dataTable['output_type'] = 'display_data';\n",
              "        await google.colab.output.renderOutput(dataTable, element);\n",
              "        const docLink = document.createElement('div');\n",
              "        docLink.innerHTML = docLinkHtml;\n",
              "        element.appendChild(docLink);\n",
              "      }\n",
              "    </script>\n",
              "  </div>\n",
              "\n",
              "\n",
              "<div id=\"df-d50cf906-3f55-4d6f-9b86-701f40eaa685\">\n",
              "  <button class=\"colab-df-quickchart\" onclick=\"quickchart('df-d50cf906-3f55-4d6f-9b86-701f40eaa685')\"\n",
              "            title=\"Suggest charts\"\n",
              "            style=\"display:none;\">\n",
              "\n",
              "<svg xmlns=\"http://www.w3.org/2000/svg\" height=\"24px\"viewBox=\"0 0 24 24\"\n",
              "     width=\"24px\">\n",
              "    <g>\n",
              "        <path d=\"M19 3H5c-1.1 0-2 .9-2 2v14c0 1.1.9 2 2 2h14c1.1 0 2-.9 2-2V5c0-1.1-.9-2-2-2zM9 17H7v-7h2v7zm4 0h-2V7h2v10zm4 0h-2v-4h2v4z\"/>\n",
              "    </g>\n",
              "</svg>\n",
              "  </button>\n",
              "\n",
              "<style>\n",
              "  .colab-df-quickchart {\n",
              "      --bg-color: #E8F0FE;\n",
              "      --fill-color: #1967D2;\n",
              "      --hover-bg-color: #E2EBFA;\n",
              "      --hover-fill-color: #174EA6;\n",
              "      --disabled-fill-color: #AAA;\n",
              "      --disabled-bg-color: #DDD;\n",
              "  }\n",
              "\n",
              "  [theme=dark] .colab-df-quickchart {\n",
              "      --bg-color: #3B4455;\n",
              "      --fill-color: #D2E3FC;\n",
              "      --hover-bg-color: #434B5C;\n",
              "      --hover-fill-color: #FFFFFF;\n",
              "      --disabled-bg-color: #3B4455;\n",
              "      --disabled-fill-color: #666;\n",
              "  }\n",
              "\n",
              "  .colab-df-quickchart {\n",
              "    background-color: var(--bg-color);\n",
              "    border: none;\n",
              "    border-radius: 50%;\n",
              "    cursor: pointer;\n",
              "    display: none;\n",
              "    fill: var(--fill-color);\n",
              "    height: 32px;\n",
              "    padding: 0;\n",
              "    width: 32px;\n",
              "  }\n",
              "\n",
              "  .colab-df-quickchart:hover {\n",
              "    background-color: var(--hover-bg-color);\n",
              "    box-shadow: 0 1px 2px rgba(60, 64, 67, 0.3), 0 1px 3px 1px rgba(60, 64, 67, 0.15);\n",
              "    fill: var(--button-hover-fill-color);\n",
              "  }\n",
              "\n",
              "  .colab-df-quickchart-complete:disabled,\n",
              "  .colab-df-quickchart-complete:disabled:hover {\n",
              "    background-color: var(--disabled-bg-color);\n",
              "    fill: var(--disabled-fill-color);\n",
              "    box-shadow: none;\n",
              "  }\n",
              "\n",
              "  .colab-df-spinner {\n",
              "    border: 2px solid var(--fill-color);\n",
              "    border-color: transparent;\n",
              "    border-bottom-color: var(--fill-color);\n",
              "    animation:\n",
              "      spin 1s steps(1) infinite;\n",
              "  }\n",
              "\n",
              "  @keyframes spin {\n",
              "    0% {\n",
              "      border-color: transparent;\n",
              "      border-bottom-color: var(--fill-color);\n",
              "      border-left-color: var(--fill-color);\n",
              "    }\n",
              "    20% {\n",
              "      border-color: transparent;\n",
              "      border-left-color: var(--fill-color);\n",
              "      border-top-color: var(--fill-color);\n",
              "    }\n",
              "    30% {\n",
              "      border-color: transparent;\n",
              "      border-left-color: var(--fill-color);\n",
              "      border-top-color: var(--fill-color);\n",
              "      border-right-color: var(--fill-color);\n",
              "    }\n",
              "    40% {\n",
              "      border-color: transparent;\n",
              "      border-right-color: var(--fill-color);\n",
              "      border-top-color: var(--fill-color);\n",
              "    }\n",
              "    60% {\n",
              "      border-color: transparent;\n",
              "      border-right-color: var(--fill-color);\n",
              "    }\n",
              "    80% {\n",
              "      border-color: transparent;\n",
              "      border-right-color: var(--fill-color);\n",
              "      border-bottom-color: var(--fill-color);\n",
              "    }\n",
              "    90% {\n",
              "      border-color: transparent;\n",
              "      border-bottom-color: var(--fill-color);\n",
              "    }\n",
              "  }\n",
              "</style>\n",
              "\n",
              "  <script>\n",
              "    async function quickchart(key) {\n",
              "      const quickchartButtonEl =\n",
              "        document.querySelector('#' + key + ' button');\n",
              "      quickchartButtonEl.disabled = true;  // To prevent multiple clicks.\n",
              "      quickchartButtonEl.classList.add('colab-df-spinner');\n",
              "      try {\n",
              "        const charts = await google.colab.kernel.invokeFunction(\n",
              "            'suggestCharts', [key], {});\n",
              "      } catch (error) {\n",
              "        console.error('Error during call to suggestCharts:', error);\n",
              "      }\n",
              "      quickchartButtonEl.classList.remove('colab-df-spinner');\n",
              "      quickchartButtonEl.classList.add('colab-df-quickchart-complete');\n",
              "    }\n",
              "    (() => {\n",
              "      let quickchartButtonEl =\n",
              "        document.querySelector('#df-d50cf906-3f55-4d6f-9b86-701f40eaa685 button');\n",
              "      quickchartButtonEl.style.display =\n",
              "        google.colab.kernel.accessAllowed ? 'block' : 'none';\n",
              "    })();\n",
              "  </script>\n",
              "</div>\n",
              "    </div>\n",
              "  </div>\n"
            ]
          },
          "metadata": {},
          "execution_count": 34
        }
      ]
    },
    {
      "cell_type": "code",
      "source": [
        "df.printSchema()"
      ],
      "metadata": {
        "colab": {
          "base_uri": "https://localhost:8080/"
        },
        "id": "JSI3fLDc8kO4",
        "outputId": "5d1404a4-81c9-480b-e889-5cb9b1b3c121"
      },
      "execution_count": 35,
      "outputs": [
        {
          "output_type": "stream",
          "name": "stdout",
          "text": [
            "root\n",
            " |-- Motor: string (nullable = true)\n",
            " |-- Tahun: integer (nullable = true)\n",
            " |-- Harga: string (nullable = true)\n",
            " |-- Alamat: string (nullable = true)\n",
            "\n"
          ]
        }
      ]
    },
    {
      "cell_type": "code",
      "source": [
        "for motor in df.head(4):\n",
        "    print(motor, '\\n')"
      ],
      "metadata": {
        "colab": {
          "base_uri": "https://localhost:8080/"
        },
        "id": "aBLxA8518rTR",
        "outputId": "30084ef8-6622-4773-eb42-b10d75ef201c"
      },
      "execution_count": 36,
      "outputs": [
        {
          "output_type": "stream",
          "name": "stdout",
          "text": [
            "Row(Motor='MIO SOUL GT 125 GRESS', Tahun=2018, Harga='Rp 8.700.000', Alamat='Bekasi Utara, Bekasi Kota') \n",
            "\n",
            "Row(Motor='Honda Beat ECO 2019 ss lengkap mesin bagus plat B Tangerang', Tahun=2019, Harga='Rp 8.900.000', Alamat='Bekasi Utara, Bekasi Kota') \n",
            "\n",
            "Row(Motor='Sepeda Motor Listrik Uwinfly T5 Super', Tahun=2023, Harga='Rp 10.000.000', Alamat='Medan Satria, Bekasi Kota') \n",
            "\n",
            "Row(Motor='Dijual Yamaha Fino grande 2019 dof', Tahun=2019, Harga='Rp 7.600.000', Alamat='Bekasi Utara, Bekasi Kota') \n",
            "\n"
          ]
        }
      ]
    },
    {
      "cell_type": "code",
      "source": [
        "df.describe().show()"
      ],
      "metadata": {
        "colab": {
          "base_uri": "https://localhost:8080/"
        },
        "id": "fDrjngZh9JAm",
        "outputId": "f1859e6f-236b-42c5-a377-805509d1c013"
      },
      "execution_count": 37,
      "outputs": [
        {
          "output_type": "stream",
          "name": "stdout",
          "text": [
            "+-------+--------------------+------------------+-------------+--------------------+\n",
            "|summary|               Motor|             Tahun|        Harga|              Alamat|\n",
            "+-------+--------------------+------------------+-------------+--------------------+\n",
            "|  count|                1389|              1389|         1389|                1389|\n",
            "|   mean|                NULL|2021.4046076313896|         NULL|                NULL|\n",
            "| stddev|                NULL|1.9071778778100124|         NULL|                NULL|\n",
            "|    min|!! YAMAHA FAZZIO ...|              2018|Rp 10.000.000|Babelan, Bekasi Kab.|\n",
            "|    max|•Honda Beat stree...|              2023| Rp 9.999.000|Tebet, Jakarta Se...|\n",
            "+-------+--------------------+------------------+-------------+--------------------+\n",
            "\n"
          ]
        }
      ]
    },
    {
      "cell_type": "code",
      "source": [
        "df.describe(['Motor', 'Harga']).show()"
      ],
      "metadata": {
        "colab": {
          "base_uri": "https://localhost:8080/"
        },
        "id": "7T69t8qg9N_O",
        "outputId": "64ccc7e1-c5da-47e0-9cdc-8eaf038aa951"
      },
      "execution_count": 38,
      "outputs": [
        {
          "output_type": "stream",
          "name": "stdout",
          "text": [
            "+-------+--------------------+-------------+\n",
            "|summary|               Motor|        Harga|\n",
            "+-------+--------------------+-------------+\n",
            "|  count|                1389|         1389|\n",
            "|   mean|                NULL|         NULL|\n",
            "| stddev|                NULL|         NULL|\n",
            "|    min|!! YAMAHA FAZZIO ...|Rp 10.000.000|\n",
            "|    max|•Honda Beat stree...| Rp 9.999.000|\n",
            "+-------+--------------------+-------------+\n",
            "\n"
          ]
        }
      ]
    },
    {
      "cell_type": "code",
      "source": [
        "def get_num_cols(dataframe):\n",
        "\n",
        "    num_cols = [col for col in dataframe.columns if dataframe.select(col). \\\n",
        "                dtypes[0][1] in ['double', 'int']]\n",
        "\n",
        "    return num_cols\n",
        "\n",
        "num_cols = get_num_cols(df)\n",
        "\n",
        "df.describe(num_cols).show()"
      ],
      "metadata": {
        "colab": {
          "base_uri": "https://localhost:8080/"
        },
        "id": "yZry-xCy9ZKJ",
        "outputId": "5dc99fcc-5253-43e9-f9b9-ac3d99afa629"
      },
      "execution_count": 39,
      "outputs": [
        {
          "output_type": "stream",
          "name": "stdout",
          "text": [
            "+-------+------------------+\n",
            "|summary|             Tahun|\n",
            "+-------+------------------+\n",
            "|  count|              1389|\n",
            "|   mean|2021.4046076313896|\n",
            "| stddev|1.9071778778100124|\n",
            "|    min|              2018|\n",
            "|    max|              2023|\n",
            "+-------+------------------+\n",
            "\n"
          ]
        }
      ]
    },
    {
      "cell_type": "code",
      "source": [
        "df.filter(df['Tahun'] > 2022).show(5)"
      ],
      "metadata": {
        "colab": {
          "base_uri": "https://localhost:8080/"
        },
        "id": "Lm9N5PiB91gc",
        "outputId": "e6f50cf3-7481-45f8-e3d4-8ef6448d15b7"
      },
      "execution_count": 42,
      "outputs": [
        {
          "output_type": "stream",
          "name": "stdout",
          "text": [
            "+--------------------+-----+-------------+--------------------+\n",
            "|               Motor|Tahun|        Harga|              Alamat|\n",
            "+--------------------+-----+-------------+--------------------+\n",
            "|Sepeda Motor List...| 2023|Rp 10.000.000|Medan Satria, Bek...|\n",
            "|Murah !!! Dijual ...| 2023| Rp 8.500.000|Medan Satria, Bek...|\n",
            "|Motor Listrik Uwi...| 2023| Rp 9.900.000|Bekasi Barat, Bek...|\n",
            "|2023 Uwinfly T3s ...| 2023| Rp 6.800.000|Bekasi Selatan, B...|\n",
            "|Motor Listrik Uwi...| 2023| Rp 9.900.000|Bekasi Barat, Bek...|\n",
            "+--------------------+-----+-------------+--------------------+\n",
            "only showing top 5 rows\n",
            "\n"
          ]
        }
      ]
    },
    {
      "cell_type": "code",
      "source": [],
      "metadata": {
        "id": "56Y0RcT4-LiH"
      },
      "execution_count": null,
      "outputs": []
    }
  ]
}